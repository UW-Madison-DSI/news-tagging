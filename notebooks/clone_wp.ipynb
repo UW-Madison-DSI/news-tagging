{
 "cells": [
  {
   "cell_type": "code",
   "execution_count": null,
   "metadata": {},
   "outputs": [],
   "source": [
    "from database import init, Post, load_sqlite_as_df\n",
    "from tqdm import tqdm\n",
    "from data_loader import pull_posts\n",
    "import peewee\n",
    "\n",
    "# init()  # This will NUKE the local database"
   ]
  },
  {
   "cell_type": "code",
   "execution_count": null,
   "metadata": {},
   "outputs": [],
   "source": [
    "df = load_sqlite_as_df()\n",
    "resume_from = 1 + (len(df) / 10)\n",
    "print(f\"Resuming from {resume_from}\")"
   ]
  },
  {
   "cell_type": "code",
   "execution_count": null,
   "metadata": {},
   "outputs": [],
   "source": [
    "def ingest(resume_from: int = 0) -> None:\n",
    "    \"\"\"Ingest data to local database.\"\"\"\n",
    "\n",
    "    i = int(resume_from)\n",
    "    batch_size = 10\n",
    "    with tqdm() as progress_bar:\n",
    "        # Start from `resume_from`\n",
    "        progress_bar.update(i * batch_size)\n",
    "        while True:\n",
    "            try:\n",
    "                parsed_posts = pull_posts(i, batch_size=batch_size, order=\"asc\")\n",
    "                Post.bulk_create(\n",
    "                    list(map(lambda x: Post(**x), parsed_posts)), batch_size=batch_size\n",
    "                )\n",
    "            except peewee.IntegrityError:\n",
    "                print(\"Duplicate entry\")\n",
    "            finally:\n",
    "                i += 1\n",
    "                progress_bar.update(batch_size)"
   ]
  }
 ],
 "metadata": {
  "kernelspec": {
   "display_name": "Python 3",
   "language": "python",
   "name": "python3"
  },
  "language_info": {
   "codemirror_mode": {
    "name": "ipython",
    "version": 3
   },
   "file_extension": ".py",
   "mimetype": "text/x-python",
   "name": "python",
   "nbconvert_exporter": "python",
   "pygments_lexer": "ipython3",
   "version": "3.11.6"
  }
 },
 "nbformat": 4,
 "nbformat_minor": 2
}
