{
 "cells": [
  {
   "cell_type": "markdown",
   "metadata": {},
   "source": [
    "# Processing cost and time for tagging historical data"
   ]
  },
  {
   "cell_type": "markdown",
   "metadata": {},
   "source": [
    "Count tokens\n",
    "\n",
    "- Price per year\n",
    "- n docs\n",
    "\n",
    "\n",
    "### OpenAI pricing as of 12/14/2023\n",
    "\n",
    "model: `gpt-4-1106-preview`\n",
    "- input: 0.01 per 1k token = 1e-5 / token\n",
    "- output: 0.03 per 1k token = 3e-5 / token"
   ]
  },
  {
   "cell_type": "code",
   "execution_count": 1,
   "metadata": {},
   "outputs": [],
   "source": [
    "import tiktoken\n",
    "from datetime import datetime\n",
    "import altair as alt\n",
    "from database import load_sqlite_as_df\n",
    "\n",
    "INPUT_COST_PER_TOKEN = 0.01 / 1000"
   ]
  },
  {
   "cell_type": "code",
   "execution_count": 2,
   "metadata": {},
   "outputs": [],
   "source": [
    "df = load_sqlite_as_df()"
   ]
  },
  {
   "cell_type": "code",
   "execution_count": 3,
   "metadata": {},
   "outputs": [],
   "source": [
    "def count_token(string: str, model_name: str = \"cl100k_base\") -> int:\n",
    "    \"\"\"Returns the number of tokens in a text string.\"\"\"\n",
    "    encoding = tiktoken.get_encoding(model_name)\n",
    "    num_tokens = len(encoding.encode(string))\n",
    "    return num_tokens"
   ]
  },
  {
   "cell_type": "code",
   "execution_count": 4,
   "metadata": {},
   "outputs": [],
   "source": [
    "# Count tokens for price estimation\n",
    "df[\"title_tokens\"] = df[\"title\"].apply(count_token)\n",
    "df[\"summary_tokens\"] = df[\"summary\"].apply(count_token)\n",
    "df[\"content_tokens\"] = df[\"content\"].apply(count_token)\n",
    "\n",
    "df[\"title_and_summary_tokens\"] = df[\"title_tokens\"] + df[\"summary_tokens\"]\n",
    "df[\"title_and_content_tokens\"] = df[\"title_tokens\"] + df[\"content_tokens\"]\n",
    "\n",
    "# Get actual cost\n",
    "df[\"cost_title_and_summary\"] = df[\"title_and_summary_tokens\"] * INPUT_COST_PER_TOKEN\n",
    "df[\"cost_title_and_content\"] = df[\"title_and_content_tokens\"] * INPUT_COST_PER_TOKEN\n",
    "\n",
    "# Get year\n",
    "df[\"date\"] = df[\"date_gmt\"].apply(lambda x: datetime.fromisoformat(x))\n",
    "df[\"year\"] = df[\"date\"].dt.year"
   ]
  },
  {
   "cell_type": "code",
   "execution_count": 5,
   "metadata": {},
   "outputs": [],
   "source": [
    "# Make plot data\n",
    "\n",
    "df_plot = (\n",
    "    df.groupby(\"year\")\n",
    "    .agg({\"cost_title_and_summary\": \"sum\", \"cost_title_and_content\": \"sum\"})\n",
    "    .reset_index()\n",
    "    .melt(id_vars=\"year\", value_name=\"cost\")\n",
    ")\n",
    "\n",
    "df_plot[\"plan\"] = df_plot[\"variable\"].apply(lambda x: x.split(\"_\")[-1])"
   ]
  },
  {
   "cell_type": "code",
   "execution_count": 6,
   "metadata": {},
   "outputs": [
    {
     "data": {
      "text/html": [
       "<div>\n",
       "<style scoped>\n",
       "    .dataframe tbody tr th:only-of-type {\n",
       "        vertical-align: middle;\n",
       "    }\n",
       "\n",
       "    .dataframe tbody tr th {\n",
       "        vertical-align: top;\n",
       "    }\n",
       "\n",
       "    .dataframe thead th {\n",
       "        text-align: right;\n",
       "    }\n",
       "</style>\n",
       "<table border=\"1\" class=\"dataframe\">\n",
       "  <thead>\n",
       "    <tr style=\"text-align: right;\">\n",
       "      <th></th>\n",
       "      <th>year</th>\n",
       "      <th>variable</th>\n",
       "      <th>cost</th>\n",
       "      <th>plan</th>\n",
       "    </tr>\n",
       "  </thead>\n",
       "  <tbody>\n",
       "    <tr>\n",
       "      <th>14</th>\n",
       "      <td>2011</td>\n",
       "      <td>cost_title_and_summary</td>\n",
       "      <td>0.66261</td>\n",
       "      <td>summary</td>\n",
       "    </tr>\n",
       "    <tr>\n",
       "      <th>45</th>\n",
       "      <td>2015</td>\n",
       "      <td>cost_title_and_content</td>\n",
       "      <td>5.42788</td>\n",
       "      <td>content</td>\n",
       "    </tr>\n",
       "    <tr>\n",
       "      <th>36</th>\n",
       "      <td>2006</td>\n",
       "      <td>cost_title_and_content</td>\n",
       "      <td>6.79363</td>\n",
       "      <td>content</td>\n",
       "    </tr>\n",
       "    <tr>\n",
       "      <th>50</th>\n",
       "      <td>2020</td>\n",
       "      <td>cost_title_and_content</td>\n",
       "      <td>5.80743</td>\n",
       "      <td>content</td>\n",
       "    </tr>\n",
       "    <tr>\n",
       "      <th>37</th>\n",
       "      <td>2007</td>\n",
       "      <td>cost_title_and_content</td>\n",
       "      <td>5.77560</td>\n",
       "      <td>content</td>\n",
       "    </tr>\n",
       "  </tbody>\n",
       "</table>\n",
       "</div>"
      ],
      "text/plain": [
       "    year                variable     cost     plan\n",
       "14  2011  cost_title_and_summary  0.66261  summary\n",
       "45  2015  cost_title_and_content  5.42788  content\n",
       "36  2006  cost_title_and_content  6.79363  content\n",
       "50  2020  cost_title_and_content  5.80743  content\n",
       "37  2007  cost_title_and_content  5.77560  content"
      ]
     },
     "execution_count": 6,
     "metadata": {},
     "output_type": "execute_result"
    }
   ],
   "source": [
    "df_plot.sample(5)"
   ]
  },
  {
   "cell_type": "code",
   "execution_count": 7,
   "metadata": {},
   "outputs": [
    {
     "data": {
      "text/html": [
       "\n",
       "<style>\n",
       "  #altair-viz-7362e1db9ab844abb2781dd63357ac28.vega-embed {\n",
       "    width: 100%;\n",
       "    display: flex;\n",
       "  }\n",
       "\n",
       "  #altair-viz-7362e1db9ab844abb2781dd63357ac28.vega-embed details,\n",
       "  #altair-viz-7362e1db9ab844abb2781dd63357ac28.vega-embed details summary {\n",
       "    position: relative;\n",
       "  }\n",
       "</style>\n",
       "<div id=\"altair-viz-7362e1db9ab844abb2781dd63357ac28\"></div>\n",
       "<script type=\"text/javascript\">\n",
       "  var VEGA_DEBUG = (typeof VEGA_DEBUG == \"undefined\") ? {} : VEGA_DEBUG;\n",
       "  (function(spec, embedOpt){\n",
       "    let outputDiv = document.currentScript.previousElementSibling;\n",
       "    if (outputDiv.id !== \"altair-viz-7362e1db9ab844abb2781dd63357ac28\") {\n",
       "      outputDiv = document.getElementById(\"altair-viz-7362e1db9ab844abb2781dd63357ac28\");\n",
       "    }\n",
       "    const paths = {\n",
       "      \"vega\": \"https://cdn.jsdelivr.net/npm/vega@5?noext\",\n",
       "      \"vega-lib\": \"https://cdn.jsdelivr.net/npm/vega-lib?noext\",\n",
       "      \"vega-lite\": \"https://cdn.jsdelivr.net/npm/vega-lite@5.16.3?noext\",\n",
       "      \"vega-embed\": \"https://cdn.jsdelivr.net/npm/vega-embed@6?noext\",\n",
       "    };\n",
       "\n",
       "    function maybeLoadScript(lib, version) {\n",
       "      var key = `${lib.replace(\"-\", \"\")}_version`;\n",
       "      return (VEGA_DEBUG[key] == version) ?\n",
       "        Promise.resolve(paths[lib]) :\n",
       "        new Promise(function(resolve, reject) {\n",
       "          var s = document.createElement('script');\n",
       "          document.getElementsByTagName(\"head\")[0].appendChild(s);\n",
       "          s.async = true;\n",
       "          s.onload = () => {\n",
       "            VEGA_DEBUG[key] = version;\n",
       "            return resolve(paths[lib]);\n",
       "          };\n",
       "          s.onerror = () => reject(`Error loading script: ${paths[lib]}`);\n",
       "          s.src = paths[lib];\n",
       "        });\n",
       "    }\n",
       "\n",
       "    function showError(err) {\n",
       "      outputDiv.innerHTML = `<div class=\"error\" style=\"color:red;\">${err}</div>`;\n",
       "      throw err;\n",
       "    }\n",
       "\n",
       "    function displayChart(vegaEmbed) {\n",
       "      vegaEmbed(outputDiv, spec, embedOpt)\n",
       "        .catch(err => showError(`Javascript Error: ${err.message}<br>This usually means there's a typo in your chart specification. See the javascript console for the full traceback.`));\n",
       "    }\n",
       "\n",
       "    if(typeof define === \"function\" && define.amd) {\n",
       "      requirejs.config({paths});\n",
       "      require([\"vega-embed\"], displayChart, err => showError(`Error loading script: ${err.message}`));\n",
       "    } else {\n",
       "      maybeLoadScript(\"vega\", \"5\")\n",
       "        .then(() => maybeLoadScript(\"vega-lite\", \"5.16.3\"))\n",
       "        .then(() => maybeLoadScript(\"vega-embed\", \"6\"))\n",
       "        .catch(showError)\n",
       "        .then(() => displayChart(vegaEmbed));\n",
       "    }\n",
       "  })({\"config\": {\"view\": {\"continuousWidth\": 300, \"continuousHeight\": 300}}, \"data\": {\"name\": \"data-4ab61aba8daf4c685ededa6cb5cfc090\"}, \"mark\": {\"type\": \"bar\"}, \"encoding\": {\"color\": {\"field\": \"plan\", \"type\": \"nominal\"}, \"x\": {\"field\": \"year\", \"type\": \"quantitative\"}, \"y\": {\"field\": \"cost\", \"title\": \"cost($)\", \"type\": \"quantitative\"}}, \"$schema\": \"https://vega.github.io/schema/vega-lite/v5.16.3.json\", \"datasets\": {\"data-4ab61aba8daf4c685ededa6cb5cfc090\": [{\"year\": 1997, \"variable\": \"cost_title_and_summary\", \"cost\": 0.19130000000000003, \"plan\": \"summary\"}, {\"year\": 1998, \"variable\": \"cost_title_and_summary\", \"cost\": 0.25854000000000005, \"plan\": \"summary\"}, {\"year\": 1999, \"variable\": \"cost_title_and_summary\", \"cost\": 0.43190000000000006, \"plan\": \"summary\"}, {\"year\": 2000, \"variable\": \"cost_title_and_summary\", \"cost\": 0.45912000000000003, \"plan\": \"summary\"}, {\"year\": 2001, \"variable\": \"cost_title_and_summary\", \"cost\": 0.51037, \"plan\": \"summary\"}, {\"year\": 2002, \"variable\": \"cost_title_and_summary\", \"cost\": 0.50876, \"plan\": \"summary\"}, {\"year\": 2003, \"variable\": \"cost_title_and_summary\", \"cost\": 0.52087, \"plan\": \"summary\"}, {\"year\": 2004, \"variable\": \"cost_title_and_summary\", \"cost\": 0.54779, \"plan\": \"summary\"}, {\"year\": 2005, \"variable\": \"cost_title_and_summary\", \"cost\": 0.6176600000000001, \"plan\": \"summary\"}, {\"year\": 2006, \"variable\": \"cost_title_and_summary\", \"cost\": 0.6193000000000001, \"plan\": \"summary\"}, {\"year\": 2007, \"variable\": \"cost_title_and_summary\", \"cost\": 0.5160600000000001, \"plan\": \"summary\"}, {\"year\": 2008, \"variable\": \"cost_title_and_summary\", \"cost\": 0.6306900000000001, \"plan\": \"summary\"}, {\"year\": 2009, \"variable\": \"cost_title_and_summary\", \"cost\": 0.6119500000000001, \"plan\": \"summary\"}, {\"year\": 2010, \"variable\": \"cost_title_and_summary\", \"cost\": 0.60443, \"plan\": \"summary\"}, {\"year\": 2011, \"variable\": \"cost_title_and_summary\", \"cost\": 0.66261, \"plan\": \"summary\"}, {\"year\": 2012, \"variable\": \"cost_title_and_summary\", \"cost\": 0.55835, \"plan\": \"summary\"}, {\"year\": 2013, \"variable\": \"cost_title_and_summary\", \"cost\": 0.5092300000000001, \"plan\": \"summary\"}, {\"year\": 2014, \"variable\": \"cost_title_and_summary\", \"cost\": 0.49556000000000006, \"plan\": \"summary\"}, {\"year\": 2015, \"variable\": \"cost_title_and_summary\", \"cost\": 0.47331000000000006, \"plan\": \"summary\"}, {\"year\": 2016, \"variable\": \"cost_title_and_summary\", \"cost\": 0.41497000000000006, \"plan\": \"summary\"}, {\"year\": 2017, \"variable\": \"cost_title_and_summary\", \"cost\": 0.48610000000000003, \"plan\": \"summary\"}, {\"year\": 2018, \"variable\": \"cost_title_and_summary\", \"cost\": 0.48788000000000004, \"plan\": \"summary\"}, {\"year\": 2019, \"variable\": \"cost_title_and_summary\", \"cost\": 0.46641000000000005, \"plan\": \"summary\"}, {\"year\": 2020, \"variable\": \"cost_title_and_summary\", \"cost\": 0.56261, \"plan\": \"summary\"}, {\"year\": 2021, \"variable\": \"cost_title_and_summary\", \"cost\": 0.37201, \"plan\": \"summary\"}, {\"year\": 2022, \"variable\": \"cost_title_and_summary\", \"cost\": 0.29040000000000005, \"plan\": \"summary\"}, {\"year\": 2023, \"variable\": \"cost_title_and_summary\", \"cost\": 0.27423000000000003, \"plan\": \"summary\"}, {\"year\": 1997, \"variable\": \"cost_title_and_content\", \"cost\": 2.22058, \"plan\": \"content\"}, {\"year\": 1998, \"variable\": \"cost_title_and_content\", \"cost\": 3.18576, \"plan\": \"content\"}, {\"year\": 1999, \"variable\": \"cost_title_and_content\", \"cost\": 5.461790000000001, \"plan\": \"content\"}, {\"year\": 2000, \"variable\": \"cost_title_and_content\", \"cost\": 6.2912300000000005, \"plan\": \"content\"}, {\"year\": 2001, \"variable\": \"cost_title_and_content\", \"cost\": 6.49514, \"plan\": \"content\"}, {\"year\": 2002, \"variable\": \"cost_title_and_content\", \"cost\": 6.34069, \"plan\": \"content\"}, {\"year\": 2003, \"variable\": \"cost_title_and_content\", \"cost\": 5.22348, \"plan\": \"content\"}, {\"year\": 2004, \"variable\": \"cost_title_and_content\", \"cost\": 5.81834, \"plan\": \"content\"}, {\"year\": 2005, \"variable\": \"cost_title_and_content\", \"cost\": 6.04394, \"plan\": \"content\"}, {\"year\": 2006, \"variable\": \"cost_title_and_content\", \"cost\": 6.79363, \"plan\": \"content\"}, {\"year\": 2007, \"variable\": \"cost_title_and_content\", \"cost\": 5.775600000000001, \"plan\": \"content\"}, {\"year\": 2008, \"variable\": \"cost_title_and_content\", \"cost\": 6.6824, \"plan\": \"content\"}, {\"year\": 2009, \"variable\": \"cost_title_and_content\", \"cost\": 6.5312600000000005, \"plan\": \"content\"}, {\"year\": 2010, \"variable\": \"cost_title_and_content\", \"cost\": 6.507440000000001, \"plan\": \"content\"}, {\"year\": 2011, \"variable\": \"cost_title_and_content\", \"cost\": 6.5777, \"plan\": \"content\"}, {\"year\": 2012, \"variable\": \"cost_title_and_content\", \"cost\": 6.1240000000000006, \"plan\": \"content\"}, {\"year\": 2013, \"variable\": \"cost_title_and_content\", \"cost\": 5.54893, \"plan\": \"content\"}, {\"year\": 2014, \"variable\": \"cost_title_and_content\", \"cost\": 5.24178, \"plan\": \"content\"}, {\"year\": 2015, \"variable\": \"cost_title_and_content\", \"cost\": 5.42788, \"plan\": \"content\"}, {\"year\": 2016, \"variable\": \"cost_title_and_content\", \"cost\": 5.55473, \"plan\": \"content\"}, {\"year\": 2017, \"variable\": \"cost_title_and_content\", \"cost\": 6.587210000000001, \"plan\": \"content\"}, {\"year\": 2018, \"variable\": \"cost_title_and_content\", \"cost\": 6.84062, \"plan\": \"content\"}, {\"year\": 2019, \"variable\": \"cost_title_and_content\", \"cost\": 5.95645, \"plan\": \"content\"}, {\"year\": 2020, \"variable\": \"cost_title_and_content\", \"cost\": 5.80743, \"plan\": \"content\"}, {\"year\": 2021, \"variable\": \"cost_title_and_content\", \"cost\": 5.05161, \"plan\": \"content\"}, {\"year\": 2022, \"variable\": \"cost_title_and_content\", \"cost\": 3.6097300000000003, \"plan\": \"content\"}, {\"year\": 2023, \"variable\": \"cost_title_and_content\", \"cost\": 4.15338, \"plan\": \"content\"}]}}, {\"mode\": \"vega-lite\"});\n",
       "</script>"
      ],
      "text/plain": [
       "alt.Chart(...)"
      ]
     },
     "execution_count": 7,
     "metadata": {},
     "output_type": "execute_result"
    }
   ],
   "source": [
    "alt.Chart(df_plot).mark_bar().encode(\n",
    "    x=\"year\", y=alt.Y(\"cost\", title=\"cost($)\"), color=\"plan\"\n",
    ")"
   ]
  },
  {
   "cell_type": "code",
   "execution_count": 8,
   "metadata": {},
   "outputs": [
    {
     "data": {
      "text/html": [
       "<div>\n",
       "<style scoped>\n",
       "    .dataframe tbody tr th:only-of-type {\n",
       "        vertical-align: middle;\n",
       "    }\n",
       "\n",
       "    .dataframe tbody tr th {\n",
       "        vertical-align: top;\n",
       "    }\n",
       "\n",
       "    .dataframe thead th {\n",
       "        text-align: right;\n",
       "    }\n",
       "</style>\n",
       "<table border=\"1\" class=\"dataframe\">\n",
       "  <thead>\n",
       "    <tr style=\"text-align: right;\">\n",
       "      <th></th>\n",
       "      <th>plan</th>\n",
       "      <th>cost</th>\n",
       "    </tr>\n",
       "  </thead>\n",
       "  <tbody>\n",
       "    <tr>\n",
       "      <th>0</th>\n",
       "      <td>content</td>\n",
       "      <td>151.85273</td>\n",
       "    </tr>\n",
       "    <tr>\n",
       "      <th>1</th>\n",
       "      <td>summary</td>\n",
       "      <td>13.08241</td>\n",
       "    </tr>\n",
       "  </tbody>\n",
       "</table>\n",
       "</div>"
      ],
      "text/plain": [
       "      plan       cost\n",
       "0  content  151.85273\n",
       "1  summary   13.08241"
      ]
     },
     "execution_count": 8,
     "metadata": {},
     "output_type": "execute_result"
    }
   ],
   "source": [
    "df_plot.groupby(\"plan\").agg({\"cost\": \"sum\"}).reset_index()"
   ]
  },
  {
   "cell_type": "markdown",
   "metadata": {},
   "source": [
    "Time cost\n",
    "\n",
    "- I have 300,000 TPM limit with DSI account\n",
    "- Assume processing with 1/3 of max TPM\n"
   ]
  },
  {
   "cell_type": "code",
   "execution_count": 9,
   "metadata": {},
   "outputs": [
    {
     "name": "stdout",
     "output_type": "stream",
     "text": [
      "Total process time (long): 151.85 minutes\n",
      "Total process time (short): 13.08 minutes\n"
     ]
    }
   ],
   "source": [
    "PROCESS_TPM = 1e5\n",
    "\n",
    "total_process_minute_long = sum(df.title_and_content_tokens) / PROCESS_TPM\n",
    "total_process_minute_short = sum(df.title_and_summary_tokens) / PROCESS_TPM\n",
    "\n",
    "print(f\"Total process time (long): {total_process_minute_long:.2f} minutes\")\n",
    "print(f\"Total process time (short): {total_process_minute_short:.2f} minutes\")"
   ]
  },
  {
   "cell_type": "markdown",
   "metadata": {},
   "source": [
    "Summary"
   ]
  },
  {
   "cell_type": "markdown",
   "metadata": {},
   "source": [
    "- Cost to process everything should be < $200 USD (34635 news articles), processing time should be around 2 hours. Very manageable.\n",
    "- An other more cost efficient option is to process the title + summary only which will cost < $20 USD (34635 news articles)\n",
    "- In conclusion, we can process everything with a reasonable cost and time."
   ]
  }
 ],
 "metadata": {
  "kernelspec": {
   "display_name": "base",
   "language": "python",
   "name": "python3"
  },
  "language_info": {
   "codemirror_mode": {
    "name": "ipython",
    "version": 3
   },
   "file_extension": ".py",
   "mimetype": "text/x-python",
   "name": "python",
   "nbconvert_exporter": "python",
   "pygments_lexer": "ipython3",
   "version": "3.11.6"
  }
 },
 "nbformat": 4,
 "nbformat_minor": 2
}
