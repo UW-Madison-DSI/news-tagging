{
 "cells": [
  {
   "cell_type": "code",
   "execution_count": 1,
   "metadata": {},
   "outputs": [],
   "source": [
    "from data_loaded import download, load_posts\n",
    "from gpt import tag"
   ]
  },
  {
   "cell_type": "code",
   "execution_count": 5,
   "metadata": {},
   "outputs": [
    {
     "name": "stdout",
     "output_type": "stream",
     "text": [
      "{\n",
      "    \"id\": \"98008\",\n",
      "    \"author\": \"cahenning\",\n",
      "    \"date\": \"2023-08-10\",\n",
      "    \"link\": \"https://news.wisc.edu/new-recycling-process-could-find-markets-for-junk-plastic-waste/\",\n",
      "    \"title\": \"New recycling process could find markets for ‘junk’ plastic waste\",\n",
      "    \"summary\": \"A new plastics recycling method reduces emissions by 60 percent and opens the door to the reuse of materials like plastic film, multilayer materials and colored plastics.\",\n",
      "    \"content\": \"Low-value waste plastic can be converted into high-value chemicals in a new process developed by UW–Madison researchers. Joel Hallberg\\nAlthough many Americans dutifully deposit their plastic trash into the appropriate bins each week, many of those materials, including flexible films, multilayer materials and a lot of colored plastics, are not recyclable using conventional mechanical recycling methods. In the end, only about 9 percent of plastic in the United States is ever reused, often in low-value products. With a new technique, however, University of Wisconsin–Madison chemical engineers are turning low-value waste plastic into high-value products.\\nThe new method, described in the Aug. 11 issue of the journal Science, could increase the economic incentives for plastic recycling and open a door to recycling new types of plastic. The researchers estimate their methods could also reduce greenhouse gas emissions from the conventional production of these industrial chemicals by roughly 60 percent.\\nThe new technique relies on a couple of existing chemical processing techniques. The first is pyrolysis, in which plastics are heated to high temperatures in an oxygen-free environment. The result is pyrolysis oil, a liquid mix of various compounds. Pyrolysis oil contains large amounts of olefins — a class of simple hydrocarbons that are a central building block of today&#8217;s chemicals and polymers, including various types of polyesters, surfactants, alcohols and carboxylic acids.\\nIn current energy-intensive processes like steam cracking, chemical manufacturers produce olefins by subjecting petroleum to extremely high heat and pressure. In this new process, the UW–Madison team recovers olefins from pyrolysis oil and uses them in a much less energy-intensive chemical process called homogenous hydroformylation catalysis. This process converts olefins into aldehydes, which can then be further reduced into important industrial alcohols.\\n“These products can be used to make a wide range of materials that are higher value,” says George Huber, a professor of chemical and biological engineering who led the work alongside postdoctoral researcher Houqian Li and PhD student Jiayang Wu.\\nThese higher-value materials include ingredients used to make soaps and cleaners, as well as other more useful polymers.\\nUsing a process called hydroformylation, Professor George Huber (left) and postdoctoral researcher Houqian Li are able to recover the olefins in an oil made from waste plastic and transform them into high-value chemicals. Joel Hallberg\\n“We’re really excited about the implications of this technology,” says Huber, who also directs the Department of Energy-funded Center for the Chemical Upcycling of Waste Plastics. “It’s a platform technology to upgrade plastic waste using hydroformylation chemistry.”\\nThe recycling industry could adopt the process soon; in recent years, at least 10 large chemical companies have built or announced plans for facilities to produce pyrolysis oils from waste plastics. Many of them run the pyrolysis oil through steam crackers to produce low-value compounds. The new chemical recycling technique could provide a more sustainable and lucrative way to use those oils.\\n“Currently, these companies don’t have a really good approach to upgrade the pyrolysis oil,” says Li. “In this case, we can get high-value alcohols worth $1,200 to $6,000 per ton from waste plastics, which are only worth about $100 per ton. In addition, this process uses existing technology and techniques. It’s relatively easy to scale up.”\\nThe study was a collaborative effort across a few different UW–Madison departments, Huber says. Clark Landis, chair of the Department of Chemistry and a world expert on hydroformylation, suggested the possibility of applying the technique to pyrolysis oils. Chemical and biological engineering Professor Manos Mavrikakis used advanced modeling to provide molecular-level insight into the chemical processes. And chemical and biological engineering Professor Victor Zavala provided help analyzing the economics of the technique and the life cycle of the plastic waste.\\nThe next step for the team is to tune the process and better understand what recycled plastics and catalyst combinations produce which final chemical products.\\n“There are so many different products and so many routes we can pursue with this platform technology,” says Huber. “There’s a huge market for the products we’re making. I think it really could change the plastic recycling industry.”\\n\\nGeorge Huber is the Richard L. Antoine Professor. Manos Mavrikakis is the Ernest Micek Distinguished Chair, James A. Dumesic Professor and Vilas Distinguished Achievement Professor. Victor Zavala is the Baldovin-DaPra Professor. Other UW–Madison authors include Zhen Jiang and Jiaze Ma.\\nThe authors acknowledge support from the U.S. Department of Energy, Office of Energy Efficiency and Renewable Energy, Bioenergy Technologies Office under Award Number DEEE0009285; The National Energy Research Scientific Computing Center, a DOE Office of Science User Facility supported by the DOE, Office of Science, under contract no. DE-AC02-05CH11231 using NERSC award BES-ERCAP0022773; The Center for Nanoscale Materials, a DOE Office of Science User Facility located at Argonne National Laboratory supported by DOE contract DE-AC02-06CH11357; and the UW–Madison Center for High Throughput Computing supported by UW–Madison, the Advanced Computing Initiative, the Wisconsin Alumni Research Foundation, the Wisconsin Institutes for Discovery, and the National Science Foundation.\",\n",
      "    \"tags_original\": [\n",
      "        \"Campus news\",\n",
      "        \"Science & Technology\",\n",
      "        \"chemical and biological engineering\",\n",
      "        \"The Wisconsin Idea\"\n",
      "    ],\n",
      "    \"tags_gpt\": [\n",
      "        \"Environment\",\n",
      "        \"Science\",\n",
      "        \"Technology\",\n",
      "        \"Innovation\",\n",
      "        \"Chemistry\",\n",
      "        \"Recycling\",\n",
      "        \"Energy Efficiency\"\n",
      "    ]\n",
      "}\n"
     ]
    }
   ],
   "source": [
    "# posts = download(url=\"https://news.wisc.edu/feed\", save=True)\n",
    "posts = load_posts()\n",
    "print(posts[0].model_dump_json(indent=4))"
   ]
  },
  {
   "cell_type": "markdown",
   "metadata": {},
   "source": [
    "### Append GPT tags"
   ]
  },
  {
   "cell_type": "code",
   "execution_count": null,
   "metadata": {},
   "outputs": [],
   "source": [
    "# for post in posts:\n",
    "#     post.tags_gpt = tag(post.title, post.content)\n",
    "#     post.save()\n"
   ]
  },
  {
   "cell_type": "markdown",
   "metadata": {},
   "source": [
    "### Just print the results"
   ]
  },
  {
   "cell_type": "code",
   "execution_count": 6,
   "metadata": {},
   "outputs": [
    {
     "name": "stdout",
     "output_type": "stream",
     "text": [
      "Title: New recycling process could find markets for ‘junk’ plastic waste\n",
      "Summary: A new plastics recycling method reduces emissions by 60 percent and opens the door to the reuse of materials like plastic film, multilayer materials and colored plastics.\n",
      "Tags_original: ['Campus news', 'Science & Technology', 'chemical and biological engineering', 'The Wisconsin Idea']\n",
      "Tags_gpt: ['Environment', 'Science', 'Technology', 'Innovation', 'Chemistry', 'Recycling', 'Energy Efficiency']\n",
      "====================================================================================================\n",
      "Title: The Sky’s the Limit: Autistic youth explore science on their terms at STEM camp\n",
      "Summary: Rotating through stations, campers learn to estimate the canopy cover of a nearby wooded area (by pretending they’re aliens), calculate the ages of tree rings and create mini ecosystems in Mason jars.\n",
      "Tags_original: ['Campus news', 'Science & Technology', 'State & Global', 'Nelson Institute for Environmental Studies', 'outreach']\n",
      "Tags_gpt: ['Education', 'Science', 'Technology', 'Health', 'Autism', 'STEM', 'Neurodiversity', 'Outdoors']\n",
      "====================================================================================================\n",
      "Title: During pandemic, proponents of ‘doing your own research’ believed more COVID misinformation\n",
      "Summary: DYOR fans among the researcher’s panel of survey respondents grew more distrustful and more ill-informed about COVID-19 even as news of successful vaccine trials emerged.\n",
      "Tags_original: ['Campus news', 'Health & Wellness', 'Science & Technology']\n",
      "Tags_gpt: ['COVID-19', 'Misinformation', 'Public Health', 'Research', 'Social Studies', 'Conspiracy Theories']\n",
      "====================================================================================================\n",
      "Title: ICYMI: A look back at summer in Madison\n",
      "Summary: Summer in Madison is a lot of things, but it's definitely not boring. In case you missed it, here's a look back at some highlights from summer 2023.\n",
      "Tags_original: ['Campus news', 'football', 'student life', 'summer in madison', 'Summer term', 'UW Athletics']\n",
      "Tags_gpt: ['Education', 'Campus Life', 'Environment', 'Science', 'Sport', 'History', 'Events', 'Culture']\n",
      "====================================================================================================\n",
      "Title: Forging Firsts: The Remarkable Life of Ada Deer\n",
      "Summary: An educator, civil servant, and proud member of the Menominee Nation, Ada Deer ’57 was a political activist and trailblazer who laid the groundwork for the successes of many American women. Ada was the first Menominee Tribe member to graduate from UW–Madison.\n",
      "Tags_original: ['Campus news']\n",
      "Tags_gpt: ['Education', 'Politics', 'Native American Affairs', 'Women', 'Trailblazers', 'History']\n",
      "====================================================================================================\n",
      "Title: Mapping methane emissions from rivers around globe reveals surprising sources\n",
      "Summary: The findings will improve methane estimates and models of climate change, and point to land-management changes and restoration opportunities that can reduce the amount of methane escaping into the atmosphere.\n",
      "Tags_original: ['Campus news', 'Science & Technology', 'State & Global', 'limnology', 'research']\n",
      "Tags_gpt: ['Environment', 'Climate Change', 'Science', 'Research', 'Global Warming', 'Conservation']\n",
      "====================================================================================================\n",
      "Title: Pollutants are important to biodiversity’s role in spread of wildlife diseases\n",
      "Summary: Researchers found that environmental pollutants like road salt influence whether increased biodiversity helps or hinders disease outbreaks in wildlife, which can complicate how we value protecting diverse animal communities.\n",
      "Tags_original: ['Campus news', 'Science & Technology', 'College of Agricultural and Life Sciences', 'forest and wildlife ecology', 'research']\n",
      "Tags_gpt: ['Environment', 'Biodiversity', 'Wildlife', 'Disease', 'Pollution', 'Ecology', 'Conservation', 'Research']\n",
      "====================================================================================================\n",
      "Title: Students get their feet wet gathering watershed data\n",
      "Summary: Several local groups are partnering with UniverCity Year to work toward a healthier Koshkonong Creek to improve water quality and support a variety of wildlife and human activities for generations to come.\n",
      "Tags_original: ['Campus news', 'Society & Culture', 'State & Global', 'outreach', 'UniverCity Alliance', 'water resources management']\n",
      "Tags_gpt: ['Education', 'Science & Technology', 'Environment', 'Water Management', 'Community Engagement']\n",
      "====================================================================================================\n",
      "Title: 2nd- and 3rd-shift employees enjoy late-night ice cream social\n",
      "Summary: More than 300 second- and third-shift employees enjoyed ice cream and an inside look at the new Bakke Recreation and Wellbeing Center at an Employee Appreciation Ice Cream Social event from 10 p.m. to midnight on Wednesday, Aug. 16.\n",
      "Tags_original: ['Campus news', 'recent sightings', 'staff']\n",
      "Tags_gpt: ['Employee Appreciation', 'Events', 'Workplace Culture', 'Wellbeing']\n",
      "====================================================================================================\n",
      "Title: Down the tubes: Common PVC pipes can hack voice identification systems\n",
      "Summary: Machine learning algorithms can ward off a host of digital impersonators trying to hack voice recognition software, but new research has shown they aren't so impervious to analog threats.\n",
      "Tags_original: ['Campus news', 'For media', 'Science & Technology', 'College of Engineering', 'machine learning eng']\n",
      "Tags_gpt: ['Technology', 'Cybersecurity', 'AI', 'Research', 'Education']\n",
      "====================================================================================================\n"
     ]
    }
   ],
   "source": [
    "for post in posts:\n",
    "    print(f\"Title: {post.title}\")\n",
    "    print(f\"Summary: {post.summary}\")\n",
    "    print(f\"Tags_original: {post.tags_original}\")\n",
    "    print(f\"Tags_gpt: {post.tags_gpt}\")\n",
    "    print(\"=\" * 100)\n"
   ]
  }
 ],
 "metadata": {
  "kernelspec": {
   "display_name": "Python 3",
   "language": "python",
   "name": "python3"
  },
  "language_info": {
   "codemirror_mode": {
    "name": "ipython",
    "version": 3
   },
   "file_extension": ".py",
   "mimetype": "text/x-python",
   "name": "python",
   "nbconvert_exporter": "python",
   "pygments_lexer": "ipython3",
   "version": "3.11.4"
  },
  "orig_nbformat": 4
 },
 "nbformat": 4,
 "nbformat_minor": 2
}
